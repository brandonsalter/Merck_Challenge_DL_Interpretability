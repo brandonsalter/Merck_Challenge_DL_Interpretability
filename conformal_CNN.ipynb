{
  "cells": [
    {
      "cell_type": "markdown",
      "metadata": {
        "id": "5Wx3Ssr8NQpi"
      },
      "source": [
        "Instructions: To run, upload notebook to Google Colab and change runtime type to T4 GPU\n",
        "\n",
        "Credit: https://github.com/rasbt/machine-learning-book/blob/main/ch14/ch14_part1.ipynb and AWS Fortuna"
      ]
    },
    {
      "cell_type": "code",
      "execution_count": 1,
      "metadata": {
        "colab": {
          "base_uri": "https://localhost:8080/"
        },
        "id": "pNWEf_b_X_54",
        "outputId": "2c548313-6968-4d8b-a0e4-dfdc8d06a9b1"
      },
      "outputs": [
        {
          "output_type": "stream",
          "name": "stdout",
          "text": [
            "Collecting aws-fortuna\n",
            "  Downloading aws_fortuna-0.1.45-py3-none-any.whl (336 kB)\n",
            "\u001b[2K     \u001b[90m━━━━━━━━━━━━━━━━━━━━━━━━━━━━━━━━━━━━━━━━\u001b[0m \u001b[32m336.9/336.9 kB\u001b[0m \u001b[31m3.1 MB/s\u001b[0m eta \u001b[36m0:00:00\u001b[0m\n",
            "\u001b[?25hCollecting flax<0.7.0,>=0.6.2 (from aws-fortuna)\n",
            "  Downloading flax-0.6.11-py3-none-any.whl (227 kB)\n",
            "\u001b[2K     \u001b[90m━━━━━━━━━━━━━━━━━━━━━━━━━━━━━━━━━━━━━━━━\u001b[0m \u001b[32m227.2/227.2 kB\u001b[0m \u001b[31m15.9 MB/s\u001b[0m eta \u001b[36m0:00:00\u001b[0m\n",
            "\u001b[?25hRequirement already satisfied: matplotlib<4.0.0,>=3.6.2 in /usr/local/lib/python3.10/dist-packages (from aws-fortuna) (3.7.1)\n",
            "Requirement already satisfied: numpy<2.0.0,>=1.23.4 in /usr/local/lib/python3.10/dist-packages (from aws-fortuna) (1.25.2)\n",
            "Requirement already satisfied: optax<0.2.0,>=0.1.3 in /usr/local/lib/python3.10/dist-packages (from aws-fortuna) (0.1.9)\n",
            "Collecting tensorflow-cpu<3.0.0,>=2.11.0 (from aws-fortuna)\n",
            "  Downloading tensorflow_cpu-2.15.0.post1-cp310-cp310-manylinux_2_17_x86_64.manylinux2014_x86_64.whl (207.2 MB)\n",
            "\u001b[2K     \u001b[90m━━━━━━━━━━━━━━━━━━━━━━━━━━━━━━━━━━━━━━━━\u001b[0m \u001b[32m207.2/207.2 MB\u001b[0m \u001b[31m1.4 MB/s\u001b[0m eta \u001b[36m0:00:00\u001b[0m\n",
            "\u001b[?25hRequirement already satisfied: tqdm<5.0.0,>=4.64.1 in /usr/local/lib/python3.10/dist-packages (from aws-fortuna) (4.66.2)\n",
            "Requirement already satisfied: jax>=0.4.2 in /usr/local/lib/python3.10/dist-packages (from flax<0.7.0,>=0.6.2->aws-fortuna) (0.4.23)\n",
            "Requirement already satisfied: msgpack in /usr/local/lib/python3.10/dist-packages (from flax<0.7.0,>=0.6.2->aws-fortuna) (1.0.7)\n",
            "Requirement already satisfied: orbax-checkpoint in /usr/local/lib/python3.10/dist-packages (from flax<0.7.0,>=0.6.2->aws-fortuna) (0.4.4)\n",
            "Requirement already satisfied: tensorstore in /usr/local/lib/python3.10/dist-packages (from flax<0.7.0,>=0.6.2->aws-fortuna) (0.1.45)\n",
            "Requirement already satisfied: rich>=11.1 in /usr/local/lib/python3.10/dist-packages (from flax<0.7.0,>=0.6.2->aws-fortuna) (13.7.1)\n",
            "Requirement already satisfied: typing-extensions>=4.1.1 in /usr/local/lib/python3.10/dist-packages (from flax<0.7.0,>=0.6.2->aws-fortuna) (4.10.0)\n",
            "Requirement already satisfied: PyYAML>=5.4.1 in /usr/local/lib/python3.10/dist-packages (from flax<0.7.0,>=0.6.2->aws-fortuna) (6.0.1)\n",
            "Requirement already satisfied: contourpy>=1.0.1 in /usr/local/lib/python3.10/dist-packages (from matplotlib<4.0.0,>=3.6.2->aws-fortuna) (1.2.0)\n",
            "Requirement already satisfied: cycler>=0.10 in /usr/local/lib/python3.10/dist-packages (from matplotlib<4.0.0,>=3.6.2->aws-fortuna) (0.12.1)\n",
            "Requirement already satisfied: fonttools>=4.22.0 in /usr/local/lib/python3.10/dist-packages (from matplotlib<4.0.0,>=3.6.2->aws-fortuna) (4.49.0)\n",
            "Requirement already satisfied: kiwisolver>=1.0.1 in /usr/local/lib/python3.10/dist-packages (from matplotlib<4.0.0,>=3.6.2->aws-fortuna) (1.4.5)\n",
            "Requirement already satisfied: packaging>=20.0 in /usr/local/lib/python3.10/dist-packages (from matplotlib<4.0.0,>=3.6.2->aws-fortuna) (23.2)\n",
            "Requirement already satisfied: pillow>=6.2.0 in /usr/local/lib/python3.10/dist-packages (from matplotlib<4.0.0,>=3.6.2->aws-fortuna) (9.4.0)\n",
            "Requirement already satisfied: pyparsing>=2.3.1 in /usr/local/lib/python3.10/dist-packages (from matplotlib<4.0.0,>=3.6.2->aws-fortuna) (3.1.1)\n",
            "Requirement already satisfied: python-dateutil>=2.7 in /usr/local/lib/python3.10/dist-packages (from matplotlib<4.0.0,>=3.6.2->aws-fortuna) (2.8.2)\n",
            "Requirement already satisfied: absl-py>=0.7.1 in /usr/local/lib/python3.10/dist-packages (from optax<0.2.0,>=0.1.3->aws-fortuna) (1.4.0)\n",
            "Requirement already satisfied: chex>=0.1.7 in /usr/local/lib/python3.10/dist-packages (from optax<0.2.0,>=0.1.3->aws-fortuna) (0.1.85)\n",
            "Requirement already satisfied: jaxlib>=0.1.37 in /usr/local/lib/python3.10/dist-packages (from optax<0.2.0,>=0.1.3->aws-fortuna) (0.4.23+cuda12.cudnn89)\n",
            "Requirement already satisfied: astunparse>=1.6.0 in /usr/local/lib/python3.10/dist-packages (from tensorflow-cpu<3.0.0,>=2.11.0->aws-fortuna) (1.6.3)\n",
            "Requirement already satisfied: flatbuffers>=23.5.26 in /usr/local/lib/python3.10/dist-packages (from tensorflow-cpu<3.0.0,>=2.11.0->aws-fortuna) (23.5.26)\n",
            "Requirement already satisfied: gast!=0.5.0,!=0.5.1,!=0.5.2,>=0.2.1 in /usr/local/lib/python3.10/dist-packages (from tensorflow-cpu<3.0.0,>=2.11.0->aws-fortuna) (0.5.4)\n",
            "Requirement already satisfied: google-pasta>=0.1.1 in /usr/local/lib/python3.10/dist-packages (from tensorflow-cpu<3.0.0,>=2.11.0->aws-fortuna) (0.2.0)\n",
            "Requirement already satisfied: h5py>=2.9.0 in /usr/local/lib/python3.10/dist-packages (from tensorflow-cpu<3.0.0,>=2.11.0->aws-fortuna) (3.9.0)\n",
            "Requirement already satisfied: libclang>=13.0.0 in /usr/local/lib/python3.10/dist-packages (from tensorflow-cpu<3.0.0,>=2.11.0->aws-fortuna) (16.0.6)\n",
            "Requirement already satisfied: ml-dtypes~=0.2.0 in /usr/local/lib/python3.10/dist-packages (from tensorflow-cpu<3.0.0,>=2.11.0->aws-fortuna) (0.2.0)\n",
            "Requirement already satisfied: opt-einsum>=2.3.2 in /usr/local/lib/python3.10/dist-packages (from tensorflow-cpu<3.0.0,>=2.11.0->aws-fortuna) (3.3.0)\n",
            "Requirement already satisfied: protobuf!=4.21.0,!=4.21.1,!=4.21.2,!=4.21.3,!=4.21.4,!=4.21.5,<5.0.0dev,>=3.20.3 in /usr/local/lib/python3.10/dist-packages (from tensorflow-cpu<3.0.0,>=2.11.0->aws-fortuna) (3.20.3)\n",
            "Requirement already satisfied: setuptools in /usr/local/lib/python3.10/dist-packages (from tensorflow-cpu<3.0.0,>=2.11.0->aws-fortuna) (67.7.2)\n",
            "Requirement already satisfied: six>=1.12.0 in /usr/local/lib/python3.10/dist-packages (from tensorflow-cpu<3.0.0,>=2.11.0->aws-fortuna) (1.16.0)\n",
            "Requirement already satisfied: termcolor>=1.1.0 in /usr/local/lib/python3.10/dist-packages (from tensorflow-cpu<3.0.0,>=2.11.0->aws-fortuna) (2.4.0)\n",
            "Requirement already satisfied: wrapt<1.15,>=1.11.0 in /usr/local/lib/python3.10/dist-packages (from tensorflow-cpu<3.0.0,>=2.11.0->aws-fortuna) (1.14.1)\n",
            "Requirement already satisfied: tensorflow-io-gcs-filesystem>=0.23.1 in /usr/local/lib/python3.10/dist-packages (from tensorflow-cpu<3.0.0,>=2.11.0->aws-fortuna) (0.36.0)\n",
            "Requirement already satisfied: grpcio<2.0,>=1.24.3 in /usr/local/lib/python3.10/dist-packages (from tensorflow-cpu<3.0.0,>=2.11.0->aws-fortuna) (1.62.0)\n",
            "Requirement already satisfied: tensorboard<2.16,>=2.15 in /usr/local/lib/python3.10/dist-packages (from tensorflow-cpu<3.0.0,>=2.11.0->aws-fortuna) (2.15.2)\n",
            "Requirement already satisfied: tensorflow-estimator<2.16,>=2.15.0 in /usr/local/lib/python3.10/dist-packages (from tensorflow-cpu<3.0.0,>=2.11.0->aws-fortuna) (2.15.0)\n",
            "Requirement already satisfied: keras<2.16,>=2.15.0 in /usr/local/lib/python3.10/dist-packages (from tensorflow-cpu<3.0.0,>=2.11.0->aws-fortuna) (2.15.0)\n",
            "Requirement already satisfied: wheel<1.0,>=0.23.0 in /usr/local/lib/python3.10/dist-packages (from astunparse>=1.6.0->tensorflow-cpu<3.0.0,>=2.11.0->aws-fortuna) (0.42.0)\n",
            "Requirement already satisfied: toolz>=0.9.0 in /usr/local/lib/python3.10/dist-packages (from chex>=0.1.7->optax<0.2.0,>=0.1.3->aws-fortuna) (0.12.1)\n",
            "Requirement already satisfied: scipy>=1.9 in /usr/local/lib/python3.10/dist-packages (from jax>=0.4.2->flax<0.7.0,>=0.6.2->aws-fortuna) (1.11.4)\n",
            "Requirement already satisfied: markdown-it-py>=2.2.0 in /usr/local/lib/python3.10/dist-packages (from rich>=11.1->flax<0.7.0,>=0.6.2->aws-fortuna) (3.0.0)\n",
            "Requirement already satisfied: pygments<3.0.0,>=2.13.0 in /usr/local/lib/python3.10/dist-packages (from rich>=11.1->flax<0.7.0,>=0.6.2->aws-fortuna) (2.16.1)\n",
            "Requirement already satisfied: google-auth<3,>=1.6.3 in /usr/local/lib/python3.10/dist-packages (from tensorboard<2.16,>=2.15->tensorflow-cpu<3.0.0,>=2.11.0->aws-fortuna) (2.27.0)\n",
            "Requirement already satisfied: google-auth-oauthlib<2,>=0.5 in /usr/local/lib/python3.10/dist-packages (from tensorboard<2.16,>=2.15->tensorflow-cpu<3.0.0,>=2.11.0->aws-fortuna) (1.2.0)\n",
            "Requirement already satisfied: markdown>=2.6.8 in /usr/local/lib/python3.10/dist-packages (from tensorboard<2.16,>=2.15->tensorflow-cpu<3.0.0,>=2.11.0->aws-fortuna) (3.5.2)\n",
            "Requirement already satisfied: requests<3,>=2.21.0 in /usr/local/lib/python3.10/dist-packages (from tensorboard<2.16,>=2.15->tensorflow-cpu<3.0.0,>=2.11.0->aws-fortuna) (2.31.0)\n",
            "Requirement already satisfied: tensorboard-data-server<0.8.0,>=0.7.0 in /usr/local/lib/python3.10/dist-packages (from tensorboard<2.16,>=2.15->tensorflow-cpu<3.0.0,>=2.11.0->aws-fortuna) (0.7.2)\n",
            "Requirement already satisfied: werkzeug>=1.0.1 in /usr/local/lib/python3.10/dist-packages (from tensorboard<2.16,>=2.15->tensorflow-cpu<3.0.0,>=2.11.0->aws-fortuna) (3.0.1)\n",
            "Requirement already satisfied: etils[epath,epy] in /usr/local/lib/python3.10/dist-packages (from orbax-checkpoint->flax<0.7.0,>=0.6.2->aws-fortuna) (1.7.0)\n",
            "Requirement already satisfied: nest_asyncio in /usr/local/lib/python3.10/dist-packages (from orbax-checkpoint->flax<0.7.0,>=0.6.2->aws-fortuna) (1.6.0)\n",
            "Requirement already satisfied: cachetools<6.0,>=2.0.0 in /usr/local/lib/python3.10/dist-packages (from google-auth<3,>=1.6.3->tensorboard<2.16,>=2.15->tensorflow-cpu<3.0.0,>=2.11.0->aws-fortuna) (5.3.3)\n",
            "Requirement already satisfied: pyasn1-modules>=0.2.1 in /usr/local/lib/python3.10/dist-packages (from google-auth<3,>=1.6.3->tensorboard<2.16,>=2.15->tensorflow-cpu<3.0.0,>=2.11.0->aws-fortuna) (0.3.0)\n",
            "Requirement already satisfied: rsa<5,>=3.1.4 in /usr/local/lib/python3.10/dist-packages (from google-auth<3,>=1.6.3->tensorboard<2.16,>=2.15->tensorflow-cpu<3.0.0,>=2.11.0->aws-fortuna) (4.9)\n",
            "Requirement already satisfied: requests-oauthlib>=0.7.0 in /usr/local/lib/python3.10/dist-packages (from google-auth-oauthlib<2,>=0.5->tensorboard<2.16,>=2.15->tensorflow-cpu<3.0.0,>=2.11.0->aws-fortuna) (1.3.1)\n",
            "Requirement already satisfied: mdurl~=0.1 in /usr/local/lib/python3.10/dist-packages (from markdown-it-py>=2.2.0->rich>=11.1->flax<0.7.0,>=0.6.2->aws-fortuna) (0.1.2)\n",
            "Requirement already satisfied: charset-normalizer<4,>=2 in /usr/local/lib/python3.10/dist-packages (from requests<3,>=2.21.0->tensorboard<2.16,>=2.15->tensorflow-cpu<3.0.0,>=2.11.0->aws-fortuna) (3.3.2)\n",
            "Requirement already satisfied: idna<4,>=2.5 in /usr/local/lib/python3.10/dist-packages (from requests<3,>=2.21.0->tensorboard<2.16,>=2.15->tensorflow-cpu<3.0.0,>=2.11.0->aws-fortuna) (3.6)\n",
            "Requirement already satisfied: urllib3<3,>=1.21.1 in /usr/local/lib/python3.10/dist-packages (from requests<3,>=2.21.0->tensorboard<2.16,>=2.15->tensorflow-cpu<3.0.0,>=2.11.0->aws-fortuna) (2.0.7)\n",
            "Requirement already satisfied: certifi>=2017.4.17 in /usr/local/lib/python3.10/dist-packages (from requests<3,>=2.21.0->tensorboard<2.16,>=2.15->tensorflow-cpu<3.0.0,>=2.11.0->aws-fortuna) (2024.2.2)\n",
            "Requirement already satisfied: MarkupSafe>=2.1.1 in /usr/local/lib/python3.10/dist-packages (from werkzeug>=1.0.1->tensorboard<2.16,>=2.15->tensorflow-cpu<3.0.0,>=2.11.0->aws-fortuna) (2.1.5)\n",
            "Requirement already satisfied: fsspec in /usr/local/lib/python3.10/dist-packages (from etils[epath,epy]->orbax-checkpoint->flax<0.7.0,>=0.6.2->aws-fortuna) (2023.6.0)\n",
            "Requirement already satisfied: importlib_resources in /usr/local/lib/python3.10/dist-packages (from etils[epath,epy]->orbax-checkpoint->flax<0.7.0,>=0.6.2->aws-fortuna) (6.1.2)\n",
            "Requirement already satisfied: zipp in /usr/local/lib/python3.10/dist-packages (from etils[epath,epy]->orbax-checkpoint->flax<0.7.0,>=0.6.2->aws-fortuna) (3.17.0)\n",
            "Requirement already satisfied: pyasn1<0.6.0,>=0.4.6 in /usr/local/lib/python3.10/dist-packages (from pyasn1-modules>=0.2.1->google-auth<3,>=1.6.3->tensorboard<2.16,>=2.15->tensorflow-cpu<3.0.0,>=2.11.0->aws-fortuna) (0.5.1)\n",
            "Requirement already satisfied: oauthlib>=3.0.0 in /usr/local/lib/python3.10/dist-packages (from requests-oauthlib>=0.7.0->google-auth-oauthlib<2,>=0.5->tensorboard<2.16,>=2.15->tensorflow-cpu<3.0.0,>=2.11.0->aws-fortuna) (3.2.2)\n",
            "Installing collected packages: tensorflow-cpu, flax, aws-fortuna\n",
            "  Attempting uninstall: flax\n",
            "    Found existing installation: flax 0.8.1\n",
            "    Uninstalling flax-0.8.1:\n",
            "      Successfully uninstalled flax-0.8.1\n",
            "Successfully installed aws-fortuna-0.1.45 flax-0.6.11 tensorflow-cpu-2.15.0.post1\n"
          ]
        }
      ],
      "source": [
        "!pip install aws-fortuna"
      ]
    },
    {
      "cell_type": "code",
      "execution_count": 2,
      "metadata": {
        "colab": {
          "base_uri": "https://localhost:8080/"
        },
        "id": "x-NeYPCPDMyO",
        "outputId": "a6ebaa93-e736-4e1a-9df4-ae9b68a3dd29"
      },
      "outputs": [
        {
          "output_type": "stream",
          "name": "stdout",
          "text": [
            "Downloading http://yann.lecun.com/exdb/mnist/train-images-idx3-ubyte.gz\n",
            "Downloading http://yann.lecun.com/exdb/mnist/train-images-idx3-ubyte.gz to ./MNIST/raw/train-images-idx3-ubyte.gz\n"
          ]
        },
        {
          "output_type": "stream",
          "name": "stderr",
          "text": [
            "100%|██████████| 9912422/9912422 [00:00<00:00, 99775640.63it/s]\n"
          ]
        },
        {
          "output_type": "stream",
          "name": "stdout",
          "text": [
            "Extracting ./MNIST/raw/train-images-idx3-ubyte.gz to ./MNIST/raw\n",
            "\n",
            "Downloading http://yann.lecun.com/exdb/mnist/train-labels-idx1-ubyte.gz\n",
            "Downloading http://yann.lecun.com/exdb/mnist/train-labels-idx1-ubyte.gz to ./MNIST/raw/train-labels-idx1-ubyte.gz\n"
          ]
        },
        {
          "output_type": "stream",
          "name": "stderr",
          "text": [
            "100%|██████████| 28881/28881 [00:00<00:00, 41828623.56it/s]\n"
          ]
        },
        {
          "output_type": "stream",
          "name": "stdout",
          "text": [
            "Extracting ./MNIST/raw/train-labels-idx1-ubyte.gz to ./MNIST/raw\n",
            "\n",
            "Downloading http://yann.lecun.com/exdb/mnist/t10k-images-idx3-ubyte.gz\n",
            "Downloading http://yann.lecun.com/exdb/mnist/t10k-images-idx3-ubyte.gz to ./MNIST/raw/t10k-images-idx3-ubyte.gz\n"
          ]
        },
        {
          "output_type": "stream",
          "name": "stderr",
          "text": [
            "100%|██████████| 1648877/1648877 [00:00<00:00, 33369640.66it/s]\n"
          ]
        },
        {
          "output_type": "stream",
          "name": "stdout",
          "text": [
            "Extracting ./MNIST/raw/t10k-images-idx3-ubyte.gz to ./MNIST/raw\n",
            "\n",
            "Downloading http://yann.lecun.com/exdb/mnist/t10k-labels-idx1-ubyte.gz\n",
            "Downloading http://yann.lecun.com/exdb/mnist/t10k-labels-idx1-ubyte.gz to ./MNIST/raw/t10k-labels-idx1-ubyte.gz\n"
          ]
        },
        {
          "output_type": "stream",
          "name": "stderr",
          "text": [
            "100%|██████████| 4542/4542 [00:00<00:00, 22074772.62it/s]"
          ]
        },
        {
          "output_type": "stream",
          "name": "stdout",
          "text": [
            "Extracting ./MNIST/raw/t10k-labels-idx1-ubyte.gz to ./MNIST/raw\n",
            "\n"
          ]
        },
        {
          "output_type": "stream",
          "name": "stderr",
          "text": [
            "\n"
          ]
        }
      ],
      "source": [
        "import time\n",
        "import torchvision\n",
        "from torchvision import datasets\n",
        "from torchvision import transforms\n",
        "from torch.utils.data import DataLoader\n",
        "import torch.nn.functional as F\n",
        "import torch\n",
        "\n",
        "import sys\n",
        "import numpy as np\n",
        "import torch\n",
        "import torch.nn as nn\n",
        "import pandas as pd\n",
        "import sklearn\n",
        "import sklearn.model_selection\n",
        "from torch.nn.functional import one_hot\n",
        "from torch.utils.data import DataLoader, TensorDataset, random_split\n",
        "import torchvision\n",
        "from torchvision import transforms\n",
        "\n",
        "image_path = './'\n",
        "transform = transforms.Compose([transforms.ToTensor()])\n",
        "\n",
        "mnist_dataset = torchvision.datasets.MNIST(root=image_path,\n",
        "                                           train=True,\n",
        "                                           transform=transform,\n",
        "                                           download=True)\n",
        "\n",
        "from torch.utils.data import Subset\n",
        "mnist_valid_dataset = Subset(mnist_dataset, torch.arange(20000))\n",
        "\n",
        "###\n",
        "mnist_calib_dataset, mnist_valid_dataset = random_split(mnist_valid_dataset, [10000, 10000])\n",
        "###\n",
        "\n",
        "mnist_train_dataset = Subset(mnist_dataset, torch.arange(20000, len(mnist_dataset)))\n",
        "mnist_test_dataset = torchvision.datasets.MNIST(root=image_path,\n",
        "                                           train=False,\n",
        "                                           transform=transform,\n",
        "                                           download=False)"
      ]
    },
    {
      "cell_type": "code",
      "execution_count": 3,
      "metadata": {
        "id": "jrM5_LUHEdl7"
      },
      "outputs": [],
      "source": [
        "batch_size = 64\n",
        "torch.manual_seed(1)\n",
        "train_dl = DataLoader(mnist_train_dataset, batch_size, shuffle=True)\n",
        "valid_dl = DataLoader(mnist_valid_dataset, batch_size, shuffle=False)\n",
        "\n",
        "###\n",
        "calib_dl = DataLoader(mnist_calib_dataset, batch_size=10000, shuffle=True)#, pin_memory=True)\n",
        "###"
      ]
    },
    {
      "cell_type": "code",
      "execution_count": 4,
      "metadata": {
        "colab": {
          "base_uri": "https://localhost:8080/"
        },
        "id": "CodyTLjvEkhd",
        "outputId": "ba9334a5-d225-4309-af83-72d1cfd6cf62"
      },
      "outputs": [
        {
          "output_type": "execute_result",
          "data": {
            "text/plain": [
              "torch.Size([4, 64, 7, 7])"
            ]
          },
          "metadata": {},
          "execution_count": 4
        }
      ],
      "source": [
        "model = nn.Sequential()\n",
        "model.add_module('conv1', nn.Conv2d(in_channels=1, out_channels=32, kernel_size=5, padding=2))\n",
        "model.add_module('relu1', nn.ReLU())\n",
        "model.add_module('pool1', nn.MaxPool2d(kernel_size=2))\n",
        "model.add_module('conv2', nn.Conv2d(in_channels=32, out_channels=64, kernel_size=5, padding=2))\n",
        "model.add_module('relu2', nn.ReLU())\n",
        "model.add_module('pool2', nn.MaxPool2d(kernel_size=2))\n",
        "\n",
        "x = torch.ones((4, 1, 28, 28))\n",
        "model(x).shape"
      ]
    },
    {
      "cell_type": "code",
      "execution_count": 5,
      "metadata": {
        "colab": {
          "base_uri": "https://localhost:8080/"
        },
        "id": "7DOimaiXEnUR",
        "outputId": "c928ac3e-4c40-4ab3-a3d5-f61f003ba990"
      },
      "outputs": [
        {
          "output_type": "execute_result",
          "data": {
            "text/plain": [
              "torch.Size([4, 3136])"
            ]
          },
          "metadata": {},
          "execution_count": 5
        }
      ],
      "source": [
        "model.add_module('flatten', nn.Flatten())\n",
        "\n",
        "x = torch.ones((4, 1, 28, 28))\n",
        "model(x).shape"
      ]
    },
    {
      "cell_type": "code",
      "execution_count": 6,
      "metadata": {
        "id": "kcEv2y5XEp-Z"
      },
      "outputs": [],
      "source": [
        "model.add_module('fc1', nn.Linear(3136, 1024))\n",
        "model.add_module('relu3', nn.ReLU())\n",
        "model.add_module('dropout', nn.Dropout(p=0.5))\n",
        "\n",
        "model.add_module('fc2', nn.Linear(1024, 10))"
      ]
    },
    {
      "cell_type": "code",
      "execution_count": 7,
      "metadata": {
        "colab": {
          "base_uri": "https://localhost:8080/"
        },
        "id": "KT7mGrtXEsTe",
        "outputId": "a62f7dbb-bc6a-4bea-953a-d0e9eea428ee"
      },
      "outputs": [
        {
          "output_type": "stream",
          "name": "stdout",
          "text": [
            "Model connected to gpu.\n"
          ]
        }
      ],
      "source": [
        "try:\n",
        "    device = torch.device(\"cuda:0\")\n",
        "    model = model.to(device)\n",
        "    print(\"Model connected to gpu.\")\n",
        "except RuntimeError as e:\n",
        "    print(f\"RuntimeError: {e}\")\n",
        "    device = torch.device(\"cpu\")\n",
        "    model = model.to(device)\n",
        "    print(\"Model connected to cpu.\")"
      ]
    },
    {
      "cell_type": "code",
      "execution_count": 8,
      "metadata": {
        "colab": {
          "base_uri": "https://localhost:8080/"
        },
        "id": "_3VgUiH8EuFV",
        "outputId": "733efcca-b912-49d3-d6c8-8378bd8ff0ac"
      },
      "outputs": [
        {
          "output_type": "stream",
          "name": "stdout",
          "text": [
            "Epoch 1 accuracy: 0.9394 val_accuracy: 0.9821\n",
            "Epoch 2 accuracy: 0.9812 val_accuracy: 0.9864\n",
            "Epoch 3 accuracy: 0.9876 val_accuracy: 0.9875\n",
            "Epoch 4 accuracy: 0.9901 val_accuracy: 0.9893\n",
            "Epoch 5 accuracy: 0.9926 val_accuracy: 0.9890\n",
            "Epoch 6 accuracy: 0.9941 val_accuracy: 0.9881\n",
            "Epoch 7 accuracy: 0.9947 val_accuracy: 0.9894\n",
            "Epoch 8 accuracy: 0.9944 val_accuracy: 0.9909\n",
            "Epoch 9 accuracy: 0.9957 val_accuracy: 0.9908\n",
            "Epoch 10 accuracy: 0.9965 val_accuracy: 0.9884\n",
            "Epoch 11 accuracy: 0.9968 val_accuracy: 0.9911\n",
            "Epoch 12 accuracy: 0.9967 val_accuracy: 0.9909\n",
            "Epoch 13 accuracy: 0.9972 val_accuracy: 0.9893\n",
            "Epoch 14 accuracy: 0.9976 val_accuracy: 0.9913\n",
            "Epoch 15 accuracy: 0.9970 val_accuracy: 0.9899\n",
            "Epoch 16 accuracy: 0.9980 val_accuracy: 0.9905\n",
            "Epoch 17 accuracy: 0.9978 val_accuracy: 0.9903\n",
            "Epoch 18 accuracy: 0.9977 val_accuracy: 0.9903\n",
            "Epoch 19 accuracy: 0.9980 val_accuracy: 0.9911\n",
            "Epoch 20 accuracy: 0.9988 val_accuracy: 0.9911\n"
          ]
        }
      ],
      "source": [
        "loss_fn = nn.CrossEntropyLoss()\n",
        "optimizer = torch.optim.Adam(model.parameters(), lr=0.001)\n",
        "\n",
        "def train(model, num_epochs, train_dl, valid_dl):\n",
        "    loss_hist_train = [0] * num_epochs\n",
        "    accuracy_hist_train = [0] * num_epochs\n",
        "    loss_hist_valid = [0] * num_epochs\n",
        "    accuracy_hist_valid = [0] * num_epochs\n",
        "    for epoch in range(num_epochs):\n",
        "        model.train()\n",
        "        for x_batch, y_batch in train_dl:\n",
        "            x_batch = x_batch.to(device)\n",
        "            y_batch = y_batch.to(device)\n",
        "            pred = model(x_batch)\n",
        "            loss = loss_fn(pred, y_batch)\n",
        "            loss.backward()\n",
        "            optimizer.step()\n",
        "            optimizer.zero_grad()\n",
        "            loss_hist_train[epoch] += loss.item()*y_batch.size(0)\n",
        "            is_correct = (torch.argmax(pred, dim=1) == y_batch).float()\n",
        "            accuracy_hist_train[epoch] += is_correct.sum().cpu()\n",
        "\n",
        "        loss_hist_train[epoch] /= len(train_dl.dataset)\n",
        "        accuracy_hist_train[epoch] /= len(train_dl.dataset)\n",
        "\n",
        "        model.eval()\n",
        "        with torch.no_grad():\n",
        "            for x_batch, y_batch in valid_dl:\n",
        "                x_batch = x_batch.to(device)\n",
        "                y_batch = y_batch.to(device)\n",
        "                pred = model(x_batch)\n",
        "                loss = loss_fn(pred, y_batch)\n",
        "                loss_hist_valid[epoch] += loss.item()*y_batch.size(0)\n",
        "                is_correct = (torch.argmax(pred, dim=1) == y_batch).float()\n",
        "                accuracy_hist_valid[epoch] += is_correct.sum().cpu()\n",
        "\n",
        "        loss_hist_valid[epoch] /= len(valid_dl.dataset)\n",
        "        accuracy_hist_valid[epoch] /= len(valid_dl.dataset)\n",
        "\n",
        "        print(f'Epoch {epoch+1} accuracy: {accuracy_hist_train[epoch]:.4f} val_accuracy: {accuracy_hist_valid[epoch]:.4f}')\n",
        "    return loss_hist_train, loss_hist_valid, accuracy_hist_train, accuracy_hist_valid\n",
        "\n",
        "torch.manual_seed(1)\n",
        "num_epochs = 20\n",
        "hist = train(model, num_epochs, train_dl, valid_dl)"
      ]
    },
    {
      "cell_type": "code",
      "execution_count": 9,
      "metadata": {
        "colab": {
          "base_uri": "https://localhost:8080/",
          "height": 395
        },
        "id": "4acJbI-lE0cS",
        "outputId": "48351f88-4f5c-4791-ad7e-6ffa770e7b91"
      },
      "outputs": [
        {
          "output_type": "display_data",
          "data": {
            "text/plain": [
              "<Figure size 1200x400 with 2 Axes>"
            ],
            "image/png": "[encoded data removed]"
          },
          "metadata": {}
        }
      ],
      "source": [
        "import matplotlib.pyplot as plt\n",
        "\n",
        "x_arr = np.arange(len(hist[0])) + 1\n",
        "\n",
        "fig = plt.figure(figsize=(12, 4))\n",
        "ax = fig.add_subplot(1, 2, 1)\n",
        "ax.plot(x_arr, hist[0], '-o', label='Train loss')\n",
        "ax.plot(x_arr, hist[1], '--<', label='Validation loss')\n",
        "ax.set_xlabel('Epoch', size=15)\n",
        "ax.set_ylabel('Loss', size=15)\n",
        "ax.legend(fontsize=15)\n",
        "ax = fig.add_subplot(1, 2, 2)\n",
        "ax.plot(x_arr, hist[2], '-o', label='Train acc.')\n",
        "ax.plot(x_arr, hist[3], '--<', label='Validation acc.')\n",
        "ax.legend(fontsize=15)\n",
        "ax.set_xlabel('Epoch', size=15)\n",
        "ax.set_ylabel('Accuracy', size=15)\n",
        "\n",
        "#plt.savefig('figures/14_13.png')\n",
        "plt.show()"
      ]
    },
    {
      "cell_type": "code",
      "execution_count": 25,
      "metadata": {
        "colab": {
          "base_uri": "https://localhost:8080/"
        },
        "id": "r7QJf6UWE2pC",
        "outputId": "ff3721c3-1d65-4a34-b1d4-da0230589b29"
      },
      "outputs": [
        {
          "output_type": "stream",
          "name": "stdout",
          "text": [
            "Test accuracy: 0.9934\n"
          ]
        }
      ],
      "source": [
        "torch.cuda.synchronize()\n",
        "model_cpu = model.cpu()\n",
        "test_preds = model(mnist_test_dataset.data.unsqueeze(1) / 255.)\n",
        "is_correct = (torch.argmax(test_preds, dim=1) == mnist_test_dataset.targets).float()\n",
        "print(f'Test accuracy: {is_correct.mean():.4f}')"
      ]
    },
    {
      "cell_type": "code",
      "execution_count": 11,
      "metadata": {
        "colab": {
          "base_uri": "https://localhost:8080/",
          "height": 337
        },
        "id": "n_vTNApoE5kW",
        "outputId": "75f67dde-1031-4239-e041-71357aaf60e4"
      },
      "outputs": [
        {
          "output_type": "display_data",
          "data": {
            "text/plain": [
              "<Figure size 1200x400 with 12 Axes>"
            ],
            "image/png": "[encoded data removed]"
          },
          "metadata": {}
        }
      ],
      "source": [
        "fig = plt.figure(figsize=(12, 4))\n",
        "for i in range(12):\n",
        "    ax = fig.add_subplot(2, 6, i+1)\n",
        "    ax.set_xticks([]); ax.set_yticks([])\n",
        "    img = mnist_test_dataset[i][0][0, :, :]\n",
        "    pred = model(img.unsqueeze(0).unsqueeze(1))\n",
        "    y_pred = torch.argmax(pred)\n",
        "    ax.imshow(img, cmap='gray_r')\n",
        "    ax.text(0.9, 0.1, y_pred.item(),\n",
        "            size=15, color='blue',\n",
        "            horizontalalignment='center',\n",
        "            verticalalignment='center',\n",
        "            transform=ax.transAxes)\n",
        "\n",
        "\n",
        "#plt.savefig('figures/14_14.png')\n",
        "plt.show()"
      ]
    },
    {
      "cell_type": "code",
      "execution_count": 12,
      "metadata": {
        "colab": {
          "base_uri": "https://localhost:8080/",
          "height": 347
        },
        "id": "DOxlyYnra02q",
        "outputId": "5e738576-dcb3-4d35-a590-2e4066ea2475"
      },
      "outputs": [
        {
          "output_type": "display_data",
          "data": {
            "text/plain": [
              "<Figure size 1200x400 with 1415 Axes>"
            ],
            "image/png": "[encoded data removed]"
          },
          "metadata": {}
        }
      ],
      "source": [
        "fig = plt.figure(figsize=(12, 4))\n",
        "misclassified_count = 0\n",
        "\n",
        "for i in range(len(mnist_test_dataset)):\n",
        "    ax = fig.add_subplot(2, 6, misclassified_count + 1)\n",
        "    ax.set_xticks([]); ax.set_yticks([])\n",
        "    img, true_label = mnist_test_dataset[i]\n",
        "    img = img[0]  # Extracting the image tensor\n",
        "    pred = model(img.unsqueeze(0).unsqueeze(1))\n",
        "    y_pred = torch.argmax(pred)\n",
        "\n",
        "    if y_pred != true_label:\n",
        "        ax.imshow(img, cmap='gray_r')\n",
        "        ax.text(0.9, 0.1, f'Pred: {y_pred.item()}\\nTrue: {true_label}',\n",
        "                size=12, color='red',\n",
        "                horizontalalignment='center',\n",
        "                verticalalignment='center',\n",
        "                transform=ax.transAxes)\n",
        "        misclassified_count += 1\n",
        "\n",
        "    if misclassified_count >= 12:\n",
        "        break\n",
        "\n",
        "plt.show()"
      ]
    },
    {
      "cell_type": "markdown",
      "metadata": {
        "id": "QfEI7-cQbQqt"
      },
      "source": [
        "# Conformalize model"
      ]
    },
    {
      "cell_type": "code",
      "execution_count": 13,
      "metadata": {
        "id": "R8rTARhZM-22"
      },
      "outputs": [],
      "source": [
        "model = model.to(device)"
      ]
    },
    {
      "cell_type": "code",
      "execution_count": 14,
      "metadata": {
        "colab": {
          "base_uri": "https://localhost:8080/"
        },
        "id": "oguVXQrRMDXq",
        "outputId": "9edd154e-4ee0-45c8-b2c9-d99d02956bba"
      },
      "outputs": [
        {
          "output_type": "stream",
          "name": "stdout",
          "text": [
            "0.9908\n"
          ]
        }
      ],
      "source": [
        "calib_preds = None\n",
        "calib_labels = None\n",
        "\n",
        "with torch.no_grad():\n",
        "  for x_batch, y_batch in calib_dl:\n",
        "      x_batch = x_batch.to(device)\n",
        "      y_batch = y_batch.to(device)\n",
        "\n",
        "      calib_pred = model(x_batch)\n",
        "      calib_preds = calib_pred\n",
        "\n",
        "      calib_labels = y_batch\n",
        "\n",
        "      is_correct = (torch.argmax(calib_pred, dim=1) == y_batch).float().cpu().numpy()\n",
        "      print(is_correct.mean())"
      ]
    },
    {
      "cell_type": "code",
      "execution_count": 15,
      "metadata": {
        "id": "v8Du0Pw1PGXm"
      },
      "outputs": [],
      "source": [
        "# from fortuna.output_calib_model import OutputCalibClassifier\n",
        "\n",
        "# calib_model = OutputCalibClassifier()\n",
        "# calib_status = calib_model.calibrate(\n",
        "#     calib_outputs=calib_preds.cpu().numpy(), calib_targets=calib_labels.cpu().numpy()\n",
        "# )"
      ]
    },
    {
      "cell_type": "code",
      "execution_count": 27,
      "metadata": {
        "id": "kCewzHzbRmVz"
      },
      "outputs": [],
      "source": [
        "from fortuna.conformal import AdaptivePredictionConformalClassifier\n",
        "\n",
        "alpha = 0.01\n",
        "\n",
        "# val_means = prob_model.predictive.mean(inputs_loader=val_data_loader.to_inputs_loader())\n",
        "\n",
        "conformal_sets = AdaptivePredictionConformalClassifier().conformal_set(\n",
        "    val_probs=calib_preds.cpu().numpy(),\n",
        "    test_probs=test_preds.detach().cpu().numpy(),\n",
        "    val_targets=calib_labels.cpu().numpy(),\n",
        "    error=alpha,\n",
        ")"
      ]
    },
    {
      "cell_type": "code",
      "execution_count": 28,
      "metadata": {
        "colab": {
          "base_uri": "https://localhost:8080/"
        },
        "id": "NUrGFLaGTUF9",
        "outputId": "cf49b480-b0c6-4a26-d6b0-0a741f6c347a"
      },
      "outputs": [
        {
          "output_type": "execute_result",
          "data": {
            "text/plain": [
              "10000"
            ]
          },
          "metadata": {},
          "execution_count": 28
        }
      ],
      "source": [
        "len(conformal_sets)"
      ]
    },
    {
      "cell_type": "code",
      "execution_count": 29,
      "metadata": {
        "colab": {
          "base_uri": "https://localhost:8080/"
        },
        "id": "dN8RhaNySJx4",
        "outputId": "4e6ad3df-6779-4957-d27a-c84a319002f1"
      },
      "outputs": [
        {
          "output_type": "stream",
          "name": "stdout",
          "text": [
            "Average conformal set size: 2.9558\n",
            "Average conformal set size over well classified input: 2.9226069246435844\n",
            "Average conformal set size over misclassified input: 2.959414504324684\n"
          ]
        }
      ],
      "source": [
        "import numpy as np\n",
        "\n",
        "test_outputs = pred.detach().cpu().numpy()\n",
        "test_targets = mnist_test_dataset.targets.cpu().numpy()\n",
        "\n",
        "avg_size = np.mean([len(s) for s in np.array(conformal_sets, dtype=\"object\")])\n",
        "avg_size_wellclassified = np.mean(\n",
        "    [\n",
        "        len(s)\n",
        "        for s in np.array(conformal_sets, dtype=\"object\")[np.argmax(test_outputs, axis=1) == test_targets]\n",
        "    ]\n",
        ")\n",
        "avg_size_misclassified = np.mean(\n",
        "    [\n",
        "        len(s)\n",
        "        for s in np.array(conformal_sets, dtype=\"object\")[np.argmax(test_outputs, axis=1) != test_targets]\n",
        "    ]\n",
        ")\n",
        "print(f\"Average conformal set size: {avg_size}\")\n",
        "print(\n",
        "    f\"Average conformal set size over well classified input: {avg_size_wellclassified}\"\n",
        ")\n",
        "print(f\"Average conformal set size over misclassified input: {avg_size_misclassified}\")"
      ]
    },
    {
      "cell_type": "code",
      "execution_count": null,
      "metadata": {
        "id": "iGH5uH74hJ8D"
      },
      "outputs": [],
      "source": [
        "# ^ same in docs: https://aws-fortuna.readthedocs.io/en/latest/examples/mnist_classification.html#Conformal-prediction-sets"
      ]
    },
    {
      "cell_type": "code",
      "execution_count": 30,
      "metadata": {
        "colab": {
          "base_uri": "https://localhost:8080/"
        },
        "id": "3KiP4KpHXCe-",
        "outputId": "e4f0da96-7933-4e4c-ff45-381720d74f33"
      },
      "outputs": [
        {
          "output_type": "stream",
          "name": "stdout",
          "text": [
            "0\n",
            "9\n",
            "[0, 2, 9]\n"
          ]
        }
      ],
      "source": [
        "# sanity check\n",
        "\n",
        "print(test_targets[10])\n",
        "\n",
        "print(calib_labels.cpu().numpy()[10])\n",
        "\n",
        "print(conformal_sets[10])"
      ]
    },
    {
      "cell_type": "code",
      "execution_count": 31,
      "metadata": {
        "colab": {
          "base_uri": "https://localhost:8080/"
        },
        "id": "o-JXVFJ-9_NI",
        "outputId": "a23478df-14c8-4845-af3d-1aa09b0ca12b"
      },
      "outputs": [
        {
          "output_type": "stream",
          "name": "stdout",
          "text": [
            "Alpha: 0.01\n",
            "Containment of true class label: 0.9909\n"
          ]
        }
      ],
      "source": [
        "count_contain = 0\n",
        "\n",
        "for idx, sett in enumerate(conformal_sets):\n",
        "  if test_targets[idx] in sett:\n",
        "    count_contain += 1\n",
        "\n",
        "print(f'Alpha: {alpha}')\n",
        "print(f'Containment of true class label: {count_contain / len(test_targets)}')"
      ]
    },
    {
      "cell_type": "code",
      "execution_count": 33,
      "metadata": {
        "colab": {
          "base_uri": "https://localhost:8080/",
          "height": 347
        },
        "id": "xfdpIP_kfY0v",
        "outputId": "f554a9cc-7a78-48ae-ca76-ded2f24f76ac"
      },
      "outputs": [
        {
          "output_type": "display_data",
          "data": {
            "text/plain": [
              "<Figure size 1200x400 with 1902 Axes>"
            ],
            "image/png": "[encoded data removed]"
          },
          "metadata": {}
        }
      ],
      "source": [
        "fig = plt.figure(figsize=(12, 4))\n",
        "misclassified_count = 0\n",
        "\n",
        "for i in range(len(mnist_test_dataset)):\n",
        "    ax = fig.add_subplot(2, 6, misclassified_count + 1)\n",
        "    ax.set_xticks([]); ax.set_yticks([])\n",
        "    img, true_label = mnist_test_dataset[i]\n",
        "    img = img[0]  # Extracting the image tensor\n",
        "    pred = model((img.unsqueeze(0).unsqueeze(1)))\n",
        "    y_pred = torch.argmax(pred)\n",
        "\n",
        "    if (y_pred != true_label) and (len(conformal_sets[i])>1): ### fix this\n",
        "        ax.imshow(img, cmap='gray_r')\n",
        "        ax.text(0.9, 0.1, f'{conformal_sets[i]}\\nTrue: {true_label}',\n",
        "                size=12, color='red',\n",
        "                horizontalalignment='center',\n",
        "                verticalalignment='center',\n",
        "                transform=ax.transAxes)\n",
        "        misclassified_count += 1\n",
        "\n",
        "    if misclassified_count >= 12:\n",
        "        break\n",
        "\n",
        "plt.show()"
      ]
    },
    {
      "cell_type": "code",
      "execution_count": 34,
      "metadata": {
        "colab": {
          "base_uri": "https://localhost:8080/"
        },
        "id": "r1DpbJbMiWUP",
        "outputId": "477b32c1-5b5d-4bed-e7a0-8d48aee3d673"
      },
      "outputs": [
        {
          "output_type": "execute_result",
          "data": {
            "text/plain": [
              "68"
            ]
          },
          "metadata": {},
          "execution_count": 34
        }
      ],
      "source": [
        "c=0\n",
        "for sett in conformal_sets:\n",
        "  if len(sett) == 0:\n",
        "    c+=1\n",
        "c"
      ]
    },
    {
      "cell_type": "code",
      "execution_count": null,
      "metadata": {
        "id": "netfTzQqjtPO"
      },
      "outputs": [],
      "source": [
        "# ran out of free compute units"
      ]
    }
  ],
  "metadata": {
    "accelerator": "GPU",
    "colab": {
      "gpuType": "T4",
      "provenance": []
    },
    "kernelspec": {
      "display_name": "Python 3",
      "name": "python3"
    },
    "language_info": {
      "name": "python"
    }
  },
  "nbformat": 4,
  "nbformat_minor": 0
}