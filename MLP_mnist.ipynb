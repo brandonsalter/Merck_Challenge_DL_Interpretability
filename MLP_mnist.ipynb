{
  "cells": [
    {
      "cell_type": "code",
      "execution_count": null,
      "metadata": {
        "id": "s85O5xwG1Uok"
      },
      "outputs": [],
      "source": [
        "'''\n",
        "Instructions: To run, upload notebook to Google Colab and change runtime type to T4 GPU\n",
        "\n",
        "Credit: https://github.com/rasbt/machine-learning-book/blob/main/ch13/ch13_part2.py\n",
        "'''"
      ]
    },
    {
      "cell_type": "code",
      "execution_count": null,
      "metadata": {
        "id": "Ti1i9d-P11sg"
      },
      "outputs": [],
      "source": [
        "import time\n",
        "import torchvision\n",
        "from torchvision import datasets\n",
        "from torchvision import transforms\n",
        "from torch.utils.data import DataLoader\n",
        "import torch.nn.functional as F\n",
        "import torch\n",
        "\n",
        "import sys\n",
        "import numpy as np\n",
        "import torch\n",
        "import torch.nn as nn\n",
        "import pandas as pd\n",
        "import sklearn\n",
        "import sklearn.model_selection\n",
        "from torch.nn.functional import one_hot\n",
        "from torch.utils.data import DataLoader, TensorDataset\n",
        "import torchvision\n",
        "from torchvision import transforms"
      ]
    },
    {
      "cell_type": "code",
      "execution_count": null,
      "metadata": {
        "id": "GMsAE5131Uol"
      },
      "outputs": [],
      "source": [
        "image_path = 'data'\n",
        "transform = transforms.Compose([transforms.ToTensor()])\n",
        "\n",
        "mnist_train_dataset = torchvision.datasets.MNIST(root=image_path,\n",
        "                                                 train=True,\n",
        "                                                 transform=transform,\n",
        "                                                 download=True)\n",
        "\n",
        "mnist_test_dataset = torchvision.datasets.MNIST(root=image_path,\n",
        "                                                train=False,\n",
        "                                                transform=transform,\n",
        "                                                download=True)\n",
        "\n",
        "batch_size = 64\n",
        "\n",
        "torch.manual_seed(1)\n",
        "\n",
        "train_dl = DataLoader(mnist_train_dataset,\n",
        "                      batch_size,\n",
        "                      shuffle=True)"
      ]
    },
    {
      "cell_type": "code",
      "execution_count": null,
      "metadata": {
        "colab": {
          "base_uri": "https://localhost:8080/"
        },
        "id": "LcFNDvGG1Uol",
        "outputId": "6c08e922-0c65-4831-83fe-ca2b857fd910"
      },
      "outputs": [
        {
          "data": {
            "text/plain": [
              "Sequential(\n",
              "  (0): Flatten(start_dim=1, end_dim=-1)\n",
              "  (1): Linear(in_features=784, out_features=32, bias=True)\n",
              "  (2): ReLU()\n",
              "  (3): Linear(in_features=32, out_features=16, bias=True)\n",
              "  (4): ReLU()\n",
              "  (5): Linear(in_features=16, out_features=10, bias=True)\n",
              ")"
            ]
          },
          "execution_count": 9,
          "metadata": {},
          "output_type": "execute_result"
        }
      ],
      "source": [
        "hidden_units = [32, 16]\n",
        "image_size = mnist_train_dataset[0][0].shape\n",
        "input_size = image_size[0] * image_size[1] * image_size[2]\n",
        "all_layers = [nn.Flatten()]\n",
        "for hidden_unit in hidden_units:\n",
        "    layer = nn.Linear(input_size, hidden_unit)\n",
        "    all_layers.append(layer)\n",
        "    all_layers.append(nn.ReLU())\n",
        "    input_size = hidden_unit\n",
        "all_layers.append(nn.Linear(hidden_units[-1], 10))\n",
        "\n",
        "model = nn.Sequential(*all_layers)\n",
        "model"
      ]
    },
    {
      "cell_type": "code",
      "execution_count": null,
      "metadata": {
        "colab": {
          "base_uri": "https://localhost:8080/"
        },
        "id": "yuJ7flLo1Uol",
        "outputId": "93aa522f-a03d-4e51-ebe0-0b16b95d4720"
      },
      "outputs": [
        {
          "name": "stdout",
          "output_type": "stream",
          "text": [
            "Epoch 0  Accuracy 0.8531\n",
            "Epoch 1  Accuracy 0.9287\n",
            "Epoch 2  Accuracy 0.9413\n",
            "Epoch 3  Accuracy 0.9506\n",
            "Epoch 4  Accuracy 0.9558\n",
            "Epoch 5  Accuracy 0.9592\n",
            "Epoch 6  Accuracy 0.9627\n",
            "Epoch 7  Accuracy 0.9649\n",
            "Epoch 8  Accuracy 0.9673\n",
            "Epoch 9  Accuracy 0.9690\n",
            "Epoch 10  Accuracy 0.9711\n",
            "Epoch 11  Accuracy 0.9729\n",
            "Epoch 12  Accuracy 0.9737\n",
            "Epoch 13  Accuracy 0.9747\n",
            "Epoch 14  Accuracy 0.9766\n",
            "Epoch 15  Accuracy 0.9778\n",
            "Epoch 16  Accuracy 0.9780\n",
            "Epoch 17  Accuracy 0.9798\n",
            "Epoch 18  Accuracy 0.9806\n",
            "Epoch 19  Accuracy 0.9816\n"
          ]
        }
      ],
      "source": [
        "loss_fn = nn.CrossEntropyLoss()\n",
        "optimizer = torch.optim.Adam(model.parameters(), lr=0.001)\n",
        "\n",
        "torch.manual_seed(1)\n",
        "num_epochs = 20\n",
        "for epoch in range(num_epochs):\n",
        "    accuracy_hist_train = 0\n",
        "    for x_batch, y_batch in train_dl:\n",
        "        pred = model(x_batch)\n",
        "        loss = loss_fn(pred, y_batch)\n",
        "        loss.backward()\n",
        "        optimizer.step()\n",
        "        optimizer.zero_grad()\n",
        "        is_correct = (torch.argmax(pred, dim=1) == y_batch).float()\n",
        "        accuracy_hist_train += is_correct.sum()\n",
        "    accuracy_hist_train /= len(train_dl.dataset)\n",
        "    print(f'Epoch {epoch}  Accuracy {accuracy_hist_train:.4f}')"
      ]
    },
    {
      "cell_type": "code",
      "execution_count": null,
      "metadata": {
        "colab": {
          "base_uri": "https://localhost:8080/"
        },
        "id": "LGdDtVxp1Uol",
        "outputId": "5401689f-685e-4374-9751-7c5a2a6e49aa"
      },
      "outputs": [
        {
          "name": "stdout",
          "output_type": "stream",
          "text": [
            "Test accuracy: 0.9645\n"
          ]
        }
      ],
      "source": [
        "pred = model(mnist_test_dataset.data / 255.)\n",
        "is_correct = (torch.argmax(pred, dim=1) == mnist_test_dataset.targets).float()\n",
        "print(f'Test accuracy: {is_correct.mean():.4f}')"
      ]
    },
    {
      "cell_type": "code",
      "execution_count": null,
      "metadata": {
        "id": "tzD81mfW3ubF"
      },
      "outputs": [],
      "source": []
    }
  ],
  "metadata": {
    "accelerator": "GPU",
    "colab": {
      "gpuType": "T4",
      "provenance": []
    },
    "kernelspec": {
      "display_name": "Python 3",
      "name": "python3"
    },
    "language_info": {
      "name": "python"
    }
  },
  "nbformat": 4,
  "nbformat_minor": 0
}
