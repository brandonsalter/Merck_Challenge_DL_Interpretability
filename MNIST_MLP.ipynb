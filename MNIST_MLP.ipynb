{
 "cells": [
  {
   "cell_type": "code",
   "execution_count": null,
   "metadata": {},
   "outputs": [],
   "source": [
    "'''\n",
    "Instructions: To run, upload notebook to Google Colab and change runtime type to T4 GPU\n",
    "\n",
    "Credit: Machine Learning with PyTorch and Scikit-Learn Chp 11\n",
    "'''"
   ]
  }
 ],
 "metadata": {
  "language_info": {
   "name": "python"
  }
 },
 "nbformat": 4,
 "nbformat_minor": 2
}
