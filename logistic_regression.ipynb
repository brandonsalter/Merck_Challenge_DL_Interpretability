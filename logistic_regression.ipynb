{
  "cells": [
    {
      "cell_type": "code",
      "execution_count": null,
      "metadata": {
        "id": "KtQe9G6Iqbj3"
      },
      "outputs": [],
      "source": [
        "'''\n",
        "Instructions: To run, upload notebook to Google Colab and change runtime type to T4 GPU\n",
        "\n",
        "Credit: https://github.com/rasbt/stat453-deep-learning-ss21/blob/main/L08/code/softmax-regression-mnist.ipynb\n",
        "'''"
      ]
    },
    {
      "cell_type": "code",
      "execution_count": null,
      "metadata": {
        "id": "EhZm-1I7qbj4"
      },
      "outputs": [],
      "source": [
        "import time\n",
        "from torchvision import datasets\n",
        "from torchvision import transforms\n",
        "from torch.utils.data import DataLoader\n",
        "import torch.nn.functional as F\n",
        "import torch"
      ]
    },
    {
      "cell_type": "code",
      "execution_count": null,
      "metadata": {
        "colab": {
          "base_uri": "https://localhost:8080/"
        },
        "id": "jgP_FYq3qbj5",
        "outputId": "97a2c7e1-b352-4814-9307-73527ed45504"
      },
      "outputs": [
        {
          "name": "stdout",
          "output_type": "stream",
          "text": [
            "Image batch dimensions: torch.Size([256, 1, 28, 28])\n",
            "Image label dimensions: torch.Size([256])\n"
          ]
        }
      ],
      "source": [
        "##########################\n",
        "### SETTINGS\n",
        "##########################\n",
        "\n",
        "# Device\n",
        "device = torch.device(\"cuda:0\" if torch.cuda.is_available() else \"cpu\")\n",
        "\n",
        "# Hyperparameters\n",
        "random_seed = 123\n",
        "learning_rate = 0.1\n",
        "num_epochs = 25\n",
        "batch_size = 256\n",
        "\n",
        "# Architecture\n",
        "num_features = 784\n",
        "num_classes = 10\n",
        "\n",
        "\n",
        "##########################\n",
        "### MNIST DATASET\n",
        "##########################\n",
        "\n",
        "train_dataset = datasets.MNIST(root='data',\n",
        "                               train=True,\n",
        "                               transform=transforms.ToTensor(),\n",
        "                               download=True)\n",
        "\n",
        "test_dataset = datasets.MNIST(root='data',\n",
        "                              train=False,\n",
        "                              transform=transforms.ToTensor())\n",
        "\n",
        "\n",
        "train_loader = DataLoader(dataset=train_dataset,\n",
        "                          batch_size=batch_size,\n",
        "                          shuffle=True)\n",
        "\n",
        "test_loader = DataLoader(dataset=test_dataset,\n",
        "                         batch_size=batch_size,\n",
        "                         shuffle=False)\n",
        "\n",
        "\n",
        "# Checking the dataset\n",
        "for images, labels in train_loader:\n",
        "    print('Image batch dimensions:', images.shape) #NCHW\n",
        "    print('Image label dimensions:', labels.shape)\n",
        "    break"
      ]
    },
    {
      "cell_type": "code",
      "execution_count": null,
      "metadata": {
        "id": "wW54yxUtqbj6"
      },
      "outputs": [],
      "source": [
        "##########################\n",
        "### MODEL\n",
        "##########################\n",
        "\n",
        "class SoftmaxRegression(torch.nn.Module):\n",
        "\n",
        "    def __init__(self, num_features, num_classes):\n",
        "        super(SoftmaxRegression, self).__init__()\n",
        "        self.linear = torch.nn.Linear(num_features, num_classes)\n",
        "\n",
        "        self.linear.weight.detach().zero_()\n",
        "        self.linear.bias.detach().zero_()\n",
        "\n",
        "    def forward(self, x):\n",
        "        logits = self.linear(x)\n",
        "        probas = F.softmax(logits, dim=1)\n",
        "        return logits, probas\n",
        "\n",
        "model = SoftmaxRegression(num_features=num_features,\n",
        "                          num_classes=num_classes)\n",
        "\n",
        "model.to(device)\n",
        "\n",
        "##########################\n",
        "### COST AND OPTIMIZER\n",
        "##########################\n",
        "\n",
        "optimizer = torch.optim.SGD(model.parameters(), lr=learning_rate)"
      ]
    },
    {
      "cell_type": "code",
      "execution_count": null,
      "metadata": {
        "colab": {
          "base_uri": "https://localhost:8080/"
        },
        "id": "vhDf88V2qbj6",
        "outputId": "5a667119-82dd-42ee-f777-832dfc6f7fe1"
      },
      "outputs": [
        {
          "name": "stdout",
          "output_type": "stream",
          "text": [
            "Epoch: 001/025 | Batch 000/234 | Cost: 2.3026\n",
            "Epoch: 001/025 | Batch 050/234 | Cost: 0.7693\n",
            "Epoch: 001/025 | Batch 100/234 | Cost: 0.5321\n",
            "Epoch: 001/025 | Batch 150/234 | Cost: 0.5617\n",
            "Epoch: 001/025 | Batch 200/234 | Cost: 0.5501\n",
            "Epoch: 001/025 training accuracy: 88.05%\n",
            "Time elapsed: 0.21 min\n",
            "Epoch: 002/025 | Batch 000/234 | Cost: 0.4793\n",
            "Epoch: 002/025 | Batch 050/234 | Cost: 0.3686\n",
            "Epoch: 002/025 | Batch 100/234 | Cost: 0.4535\n",
            "Epoch: 002/025 | Batch 150/234 | Cost: 0.3731\n",
            "Epoch: 002/025 | Batch 200/234 | Cost: 0.4791\n",
            "Epoch: 002/025 training accuracy: 89.26%\n",
            "Time elapsed: 0.42 min\n",
            "Epoch: 003/025 | Batch 000/234 | Cost: 0.4057\n",
            "Epoch: 003/025 | Batch 050/234 | Cost: 0.4456\n",
            "Epoch: 003/025 | Batch 100/234 | Cost: 0.3770\n",
            "Epoch: 003/025 | Batch 150/234 | Cost: 0.3893\n",
            "Epoch: 003/025 | Batch 200/234 | Cost: 0.2996\n",
            "Epoch: 003/025 training accuracy: 89.94%\n",
            "Time elapsed: 0.62 min\n",
            "Epoch: 004/025 | Batch 000/234 | Cost: 0.4298\n",
            "Epoch: 004/025 | Batch 050/234 | Cost: 0.3918\n",
            "Epoch: 004/025 | Batch 100/234 | Cost: 0.3756\n",
            "Epoch: 004/025 | Batch 150/234 | Cost: 0.3902\n",
            "Epoch: 004/025 | Batch 200/234 | Cost: 0.3132\n",
            "Epoch: 004/025 training accuracy: 90.29%\n",
            "Time elapsed: 0.85 min\n",
            "Epoch: 005/025 | Batch 000/234 | Cost: 0.3102\n",
            "Epoch: 005/025 | Batch 050/234 | Cost: 0.3763\n",
            "Epoch: 005/025 | Batch 100/234 | Cost: 0.3618\n",
            "Epoch: 005/025 | Batch 150/234 | Cost: 0.3139\n",
            "Epoch: 005/025 | Batch 200/234 | Cost: 0.3217\n",
            "Epoch: 005/025 training accuracy: 90.61%\n",
            "Time elapsed: 1.05 min\n",
            "Epoch: 006/025 | Batch 000/234 | Cost: 0.3214\n",
            "Epoch: 006/025 | Batch 050/234 | Cost: 0.4165\n",
            "Epoch: 006/025 | Batch 100/234 | Cost: 0.3141\n",
            "Epoch: 006/025 | Batch 150/234 | Cost: 0.2678\n",
            "Epoch: 006/025 | Batch 200/234 | Cost: 0.3189\n",
            "Epoch: 006/025 training accuracy: 90.83%\n",
            "Time elapsed: 1.28 min\n",
            "Epoch: 007/025 | Batch 000/234 | Cost: 0.3587\n",
            "Epoch: 007/025 | Batch 050/234 | Cost: 0.3007\n",
            "Epoch: 007/025 | Batch 100/234 | Cost: 0.3010\n",
            "Epoch: 007/025 | Batch 150/234 | Cost: 0.3451\n",
            "Epoch: 007/025 | Batch 200/234 | Cost: 0.3099\n",
            "Epoch: 007/025 training accuracy: 91.01%\n",
            "Time elapsed: 1.50 min\n",
            "Epoch: 008/025 | Batch 000/234 | Cost: 0.2991\n",
            "Epoch: 008/025 | Batch 050/234 | Cost: 0.3906\n",
            "Epoch: 008/025 | Batch 100/234 | Cost: 0.2487\n",
            "Epoch: 008/025 | Batch 150/234 | Cost: 0.3093\n",
            "Epoch: 008/025 | Batch 200/234 | Cost: 0.3785\n",
            "Epoch: 008/025 training accuracy: 91.21%\n",
            "Time elapsed: 1.71 min\n",
            "Epoch: 009/025 | Batch 000/234 | Cost: 0.2335\n",
            "Epoch: 009/025 | Batch 050/234 | Cost: 0.2315\n",
            "Epoch: 009/025 | Batch 100/234 | Cost: 0.2376\n",
            "Epoch: 009/025 | Batch 150/234 | Cost: 0.2611\n",
            "Epoch: 009/025 | Batch 200/234 | Cost: 0.3514\n",
            "Epoch: 009/025 training accuracy: 91.32%\n",
            "Time elapsed: 1.92 min\n",
            "Epoch: 010/025 | Batch 000/234 | Cost: 0.3314\n",
            "Epoch: 010/025 | Batch 050/234 | Cost: 0.3491\n",
            "Epoch: 010/025 | Batch 100/234 | Cost: 0.3197\n",
            "Epoch: 010/025 | Batch 150/234 | Cost: 0.3230\n",
            "Epoch: 010/025 | Batch 200/234 | Cost: 0.2563\n",
            "Epoch: 010/025 training accuracy: 91.46%\n",
            "Time elapsed: 2.13 min\n",
            "Epoch: 011/025 | Batch 000/234 | Cost: 0.3014\n",
            "Epoch: 011/025 | Batch 050/234 | Cost: 0.2455\n",
            "Epoch: 011/025 | Batch 100/234 | Cost: 0.3432\n",
            "Epoch: 011/025 | Batch 150/234 | Cost: 0.2749\n",
            "Epoch: 011/025 | Batch 200/234 | Cost: 0.3896\n",
            "Epoch: 011/025 training accuracy: 91.57%\n",
            "Time elapsed: 2.34 min\n",
            "Epoch: 012/025 | Batch 000/234 | Cost: 0.3600\n",
            "Epoch: 012/025 | Batch 050/234 | Cost: 0.3190\n",
            "Epoch: 012/025 | Batch 100/234 | Cost: 0.2703\n",
            "Epoch: 012/025 | Batch 150/234 | Cost: 0.3209\n",
            "Epoch: 012/025 | Batch 200/234 | Cost: 0.2498\n",
            "Epoch: 012/025 training accuracy: 91.58%\n",
            "Time elapsed: 2.55 min\n",
            "Epoch: 013/025 | Batch 000/234 | Cost: 0.2440\n",
            "Epoch: 013/025 | Batch 050/234 | Cost: 0.2772\n",
            "Epoch: 013/025 | Batch 100/234 | Cost: 0.4585\n",
            "Epoch: 013/025 | Batch 150/234 | Cost: 0.2891\n",
            "Epoch: 013/025 | Batch 200/234 | Cost: 0.2780\n",
            "Epoch: 013/025 training accuracy: 91.68%\n",
            "Time elapsed: 2.75 min\n",
            "Epoch: 014/025 | Batch 000/234 | Cost: 0.3692\n",
            "Epoch: 014/025 | Batch 050/234 | Cost: 0.3481\n",
            "Epoch: 014/025 | Batch 100/234 | Cost: 0.3567\n",
            "Epoch: 014/025 | Batch 150/234 | Cost: 0.2994\n",
            "Epoch: 014/025 | Batch 200/234 | Cost: 0.4025\n",
            "Epoch: 014/025 training accuracy: 91.78%\n",
            "Time elapsed: 2.96 min\n",
            "Epoch: 015/025 | Batch 000/234 | Cost: 0.3227\n",
            "Epoch: 015/025 | Batch 050/234 | Cost: 0.3938\n",
            "Epoch: 015/025 | Batch 100/234 | Cost: 0.2396\n",
            "Epoch: 015/025 | Batch 150/234 | Cost: 0.3593\n",
            "Epoch: 015/025 | Batch 200/234 | Cost: 0.2778\n",
            "Epoch: 015/025 training accuracy: 91.82%\n",
            "Time elapsed: 3.17 min\n",
            "Epoch: 016/025 | Batch 000/234 | Cost: 0.3591\n",
            "Epoch: 016/025 | Batch 050/234 | Cost: 0.3155\n",
            "Epoch: 016/025 | Batch 100/234 | Cost: 0.3261\n",
            "Epoch: 016/025 | Batch 150/234 | Cost: 0.2927\n",
            "Epoch: 016/025 | Batch 200/234 | Cost: 0.2214\n",
            "Epoch: 016/025 training accuracy: 91.83%\n",
            "Time elapsed: 3.38 min\n",
            "Epoch: 017/025 | Batch 000/234 | Cost: 0.4053\n",
            "Epoch: 017/025 | Batch 050/234 | Cost: 0.2795\n",
            "Epoch: 017/025 | Batch 100/234 | Cost: 0.2384\n",
            "Epoch: 017/025 | Batch 150/234 | Cost: 0.2092\n",
            "Epoch: 017/025 | Batch 200/234 | Cost: 0.2266\n",
            "Epoch: 017/025 training accuracy: 91.97%\n",
            "Time elapsed: 3.65 min\n",
            "Epoch: 018/025 | Batch 000/234 | Cost: 0.2993\n",
            "Epoch: 018/025 | Batch 050/234 | Cost: 0.2251\n",
            "Epoch: 018/025 | Batch 100/234 | Cost: 0.2479\n",
            "Epoch: 018/025 | Batch 150/234 | Cost: 0.3263\n",
            "Epoch: 018/025 | Batch 200/234 | Cost: 0.3964\n",
            "Epoch: 018/025 training accuracy: 92.00%\n",
            "Time elapsed: 3.88 min\n",
            "Epoch: 019/025 | Batch 000/234 | Cost: 0.2606\n",
            "Epoch: 019/025 | Batch 050/234 | Cost: 0.2849\n",
            "Epoch: 019/025 | Batch 100/234 | Cost: 0.2218\n",
            "Epoch: 019/025 | Batch 150/234 | Cost: 0.2942\n",
            "Epoch: 019/025 | Batch 200/234 | Cost: 0.2389\n",
            "Epoch: 019/025 training accuracy: 92.00%\n",
            "Time elapsed: 4.09 min\n",
            "Epoch: 020/025 | Batch 000/234 | Cost: 0.2396\n",
            "Epoch: 020/025 | Batch 050/234 | Cost: 0.2634\n",
            "Epoch: 020/025 | Batch 100/234 | Cost: 0.2526\n",
            "Epoch: 020/025 | Batch 150/234 | Cost: 0.2635\n",
            "Epoch: 020/025 | Batch 200/234 | Cost: 0.2948\n",
            "Epoch: 020/025 training accuracy: 92.00%\n",
            "Time elapsed: 4.30 min\n",
            "Epoch: 021/025 | Batch 000/234 | Cost: 0.3279\n",
            "Epoch: 021/025 | Batch 050/234 | Cost: 0.2551\n",
            "Epoch: 021/025 | Batch 100/234 | Cost: 0.2973\n",
            "Epoch: 021/025 | Batch 150/234 | Cost: 0.3861\n",
            "Epoch: 021/025 | Batch 200/234 | Cost: 0.2522\n",
            "Epoch: 021/025 training accuracy: 92.06%\n",
            "Time elapsed: 4.51 min\n",
            "Epoch: 022/025 | Batch 000/234 | Cost: 0.2628\n",
            "Epoch: 022/025 | Batch 050/234 | Cost: 0.3467\n",
            "Epoch: 022/025 | Batch 100/234 | Cost: 0.2834\n",
            "Epoch: 022/025 | Batch 150/234 | Cost: 0.2296\n",
            "Epoch: 022/025 | Batch 200/234 | Cost: 0.2980\n",
            "Epoch: 022/025 training accuracy: 92.12%\n",
            "Time elapsed: 4.72 min\n",
            "Epoch: 023/025 | Batch 000/234 | Cost: 0.3097\n",
            "Epoch: 023/025 | Batch 050/234 | Cost: 0.3839\n",
            "Epoch: 023/025 | Batch 100/234 | Cost: 0.3657\n",
            "Epoch: 023/025 | Batch 150/234 | Cost: 0.3523\n",
            "Epoch: 023/025 | Batch 200/234 | Cost: 0.2613\n",
            "Epoch: 023/025 training accuracy: 92.21%\n",
            "Time elapsed: 4.93 min\n",
            "Epoch: 024/025 | Batch 000/234 | Cost: 0.1889\n",
            "Epoch: 024/025 | Batch 050/234 | Cost: 0.2685\n",
            "Epoch: 024/025 | Batch 100/234 | Cost: 0.2989\n",
            "Epoch: 024/025 | Batch 150/234 | Cost: 0.2415\n",
            "Epoch: 024/025 | Batch 200/234 | Cost: 0.2237\n",
            "Epoch: 024/025 training accuracy: 92.19%\n",
            "Time elapsed: 5.14 min\n",
            "Epoch: 025/025 | Batch 000/234 | Cost: 0.2646\n",
            "Epoch: 025/025 | Batch 050/234 | Cost: 0.2387\n",
            "Epoch: 025/025 | Batch 100/234 | Cost: 0.3615\n",
            "Epoch: 025/025 | Batch 150/234 | Cost: 0.2183\n",
            "Epoch: 025/025 | Batch 200/234 | Cost: 0.3249\n",
            "Epoch: 025/025 training accuracy: 92.17%\n",
            "Time elapsed: 5.35 min\n"
          ]
        }
      ],
      "source": [
        "# Manual seed for deterministic data loader\n",
        "torch.manual_seed(random_seed)\n",
        "\n",
        "\n",
        "def compute_accuracy(model, data_loader):\n",
        "    correct_pred, num_examples = 0, 0\n",
        "\n",
        "    for features, targets in data_loader:\n",
        "        features = features.view(-1, 28*28).to(device)\n",
        "        targets = targets.to(device)\n",
        "        logits, probas = model(features)\n",
        "        _, predicted_labels = torch.max(probas, 1)\n",
        "        num_examples += targets.size(0)\n",
        "        correct_pred += (predicted_labels == targets).sum()\n",
        "\n",
        "    return correct_pred.float() / num_examples * 100\n",
        "\n",
        "\n",
        "start_time = time.time()\n",
        "epoch_costs = []\n",
        "for epoch in range(num_epochs):\n",
        "    avg_cost = 0.\n",
        "    for batch_idx, (features, targets) in enumerate(train_loader):\n",
        "\n",
        "        features = features.view(-1, 28*28).to(device)\n",
        "        targets = targets.to(device)\n",
        "\n",
        "        ### FORWARD AND BACK PROP\n",
        "        logits, probas = model(features)\n",
        "\n",
        "        # note that the PyTorch implementation of\n",
        "        # CrossEntropyLoss works with logits, not\n",
        "        # probabilities\n",
        "        cost = F.cross_entropy(logits, targets)\n",
        "        optimizer.zero_grad()\n",
        "        cost.backward()\n",
        "        avg_cost += cost\n",
        "\n",
        "        ### UPDATE MODEL PARAMETERS\n",
        "        optimizer.step()\n",
        "\n",
        "        ### LOGGING\n",
        "        if not batch_idx % 50:\n",
        "            print ('Epoch: %03d/%03d | Batch %03d/%03d | Cost: %.4f'\n",
        "                   %(epoch+1, num_epochs, batch_idx,\n",
        "                     len(train_dataset)//batch_size, cost))\n",
        "\n",
        "    with torch.set_grad_enabled(False):\n",
        "        avg_cost = avg_cost/len(train_dataset)\n",
        "        epoch_costs.append(avg_cost)\n",
        "        print('Epoch: %03d/%03d training accuracy: %.2f%%' % (\n",
        "              epoch+1, num_epochs,\n",
        "              compute_accuracy(model, train_loader)))\n",
        "        print('Time elapsed: %.2f min' % ((time.time() - start_time)/60))"
      ]
    },
    {
      "cell_type": "code",
      "execution_count": null,
      "metadata": {
        "id": "QFtkI8gRsfYe"
      },
      "outputs": [],
      "source": [
        "tmp = []\n",
        "\n",
        "for idx, cost in enumerate(epoch_costs):\n",
        "  temp = epoch_costs[idx].cpu().numpy()\n",
        "  tmp.append(temp)\n",
        "\n",
        "epoch_costs = tmp"
      ]
    },
    {
      "cell_type": "code",
      "execution_count": null,
      "metadata": {
        "colab": {
          "base_uri": "https://localhost:8080/",
          "height": 449
        },
        "id": "SVU_JCRDqbj7",
        "outputId": "e6a80bbd-f80c-470f-cd96-16e84a2ed379"
      },
      "outputs": [
        {
          "data": {
            "image/png": "[encoded data removed]",
            "text/plain": [
              "<Figure size 640x480 with 1 Axes>"
            ]
          },
          "metadata": {},
          "output_type": "display_data"
        }
      ],
      "source": [
        "%matplotlib inline\n",
        "import matplotlib\n",
        "import matplotlib.pyplot as plt\n",
        "\n",
        "plt.plot(epoch_costs)\n",
        "plt.ylabel('Avg Cross Entropy Loss\\n(approximated by averaging over minibatches)')\n",
        "plt.xlabel('Epoch')\n",
        "plt.show()"
      ]
    },
    {
      "cell_type": "code",
      "execution_count": null,
      "metadata": {
        "colab": {
          "base_uri": "https://localhost:8080/"
        },
        "id": "fWqqulcjqbj7",
        "outputId": "08f3dcf2-d837-489d-bea1-7760b15bb3e1"
      },
      "outputs": [
        {
          "name": "stdout",
          "output_type": "stream",
          "text": [
            "Test accuracy: 92.24%\n"
          ]
        }
      ],
      "source": [
        "print('Test accuracy: %.2f%%' % (compute_accuracy(model, test_loader)))"
      ]
    },
    {
      "cell_type": "code",
      "execution_count": null,
      "metadata": {
        "colab": {
          "base_uri": "https://localhost:8080/",
          "height": 172
        },
        "id": "Ze5S241dqbj8",
        "outputId": "d5bf3550-f122-4d63-9930-7f993e40b3a9"
      },
      "outputs": [
        {
          "data": {
            "image/png": "[encoded data removed]",
            "text/plain": [
              "<Figure size 640x480 with 4 Axes>"
            ]
          },
          "metadata": {},
          "output_type": "display_data"
        }
      ],
      "source": [
        "for features, targets in test_loader:\n",
        "    break\n",
        "\n",
        "fig, ax = plt.subplots(1, 4)\n",
        "for i in range(4):\n",
        "    ax[i].imshow(features[i].view(28, 28), cmap=matplotlib.cm.binary)\n",
        "\n",
        "plt.show()"
      ]
    },
    {
      "cell_type": "code",
      "execution_count": null,
      "metadata": {
        "colab": {
          "base_uri": "https://localhost:8080/"
        },
        "id": "pfh2_lcQqbj8",
        "outputId": "c60fc217-e6dc-486c-95c7-0f3022436b48"
      },
      "outputs": [
        {
          "name": "stdout",
          "output_type": "stream",
          "text": [
            "Predicted labels tensor([7, 2, 1, 0], device='cuda:0')\n"
          ]
        }
      ],
      "source": [
        "_, predictions = model.forward(features[:4].view(-1, 28*28).to(device))\n",
        "predictions = torch.argmax(predictions, dim=1)\n",
        "print('Predicted labels', predictions)"
      ]
    },
    {
      "cell_type": "code",
      "execution_count": null,
      "metadata": {
        "id": "82nVdnwXvEzI"
      },
      "outputs": [],
      "source": []
    }
  ],
  "metadata": {
    "accelerator": "GPU",
    "colab": {
      "gpuType": "T4",
      "provenance": []
    },
    "kernelspec": {
      "display_name": "Python 3",
      "name": "python3"
    },
    "language_info": {
      "codemirror_mode": {
        "name": "ipython",
        "version": 3
      },
      "file_extension": ".py",
      "mimetype": "text/x-python",
      "name": "python",
      "nbconvert_exporter": "python",
      "pygments_lexer": "ipython3",
      "version": "3.11.5"
    }
  },
  "nbformat": 4,
  "nbformat_minor": 0
}
